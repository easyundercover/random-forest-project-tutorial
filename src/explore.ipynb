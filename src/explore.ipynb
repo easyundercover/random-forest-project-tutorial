{
    "cells": [
        {
            "cell_type": "markdown",
            "metadata": {},
            "source": [
                "# Random Forest Project\n"
            ]
        },
        {
            "cell_type": "code",
            "execution_count": 1,
            "metadata": {},
            "outputs": [],
            "source": [
                "import pandas as pd\n",
                "import numpy as np\n",
                "import matplotlib.pyplot as plt\n",
                "import seaborn as sns\n",
                "import pickle\n",
                "import sklearn\n",
                "from sklearn.datasets import make_moons\n",
                "from sklearn.metrics import accuracy_score\n",
                "from sklearn.model_selection import train_test_split\n",
                "from sklearn.model_selection import RandomizedSearchCV\n",
                "from sklearn.tree import DecisionTreeClassifier\n",
                "from sklearn.ensemble import RandomForestClassifier\n",
                "from sklearn.metrics import confusion_matrix\n",
                "from sklearn.metrics import ConfusionMatrixDisplay\n",
                "from sklearn.metrics import classification_report"
            ]
        },
        {
            "cell_type": "code",
            "execution_count": 2,
            "metadata": {},
            "outputs": [],
            "source": [
                "url = 'https://raw.githubusercontent.com/4GeeksAcademy/random-forest-project-tutorial/main/titanic_train.csv'\n",
                "df = pd.read_csv(url)"
            ]
        },
        {
            "cell_type": "code",
            "execution_count": 3,
            "metadata": {},
            "outputs": [
                {
                    "name": "stdout",
                    "output_type": "stream",
                    "text": [
                        "<class 'pandas.core.frame.DataFrame'>\n",
                        "RangeIndex: 891 entries, 0 to 890\n",
                        "Data columns (total 12 columns):\n",
                        " #   Column       Non-Null Count  Dtype  \n",
                        "---  ------       --------------  -----  \n",
                        " 0   PassengerId  891 non-null    int64  \n",
                        " 1   Survived     891 non-null    int64  \n",
                        " 2   Pclass       891 non-null    int64  \n",
                        " 3   Name         891 non-null    object \n",
                        " 4   Sex          891 non-null    object \n",
                        " 5   Age          714 non-null    float64\n",
                        " 6   SibSp        891 non-null    int64  \n",
                        " 7   Parch        891 non-null    int64  \n",
                        " 8   Ticket       891 non-null    object \n",
                        " 9   Fare         891 non-null    float64\n",
                        " 10  Cabin        204 non-null    object \n",
                        " 11  Embarked     889 non-null    object \n",
                        "dtypes: float64(2), int64(5), object(5)\n",
                        "memory usage: 83.7+ KB\n"
                    ]
                }
            ],
            "source": [
                "df.info()\n",
                "#12 cols, 891 rows\n",
                "#Name, sex, cabin and embarked are probably categorical\n",
                "#Hay nulls en age, cabin y embarked"
            ]
        },
        {
            "cell_type": "code",
            "execution_count": 4,
            "metadata": {},
            "outputs": [
                {
                    "data": {
                        "text/html": [
                            "<div>\n",
                            "<style scoped>\n",
                            "    .dataframe tbody tr th:only-of-type {\n",
                            "        vertical-align: middle;\n",
                            "    }\n",
                            "\n",
                            "    .dataframe tbody tr th {\n",
                            "        vertical-align: top;\n",
                            "    }\n",
                            "\n",
                            "    .dataframe thead th {\n",
                            "        text-align: right;\n",
                            "    }\n",
                            "</style>\n",
                            "<table border=\"1\" class=\"dataframe\">\n",
                            "  <thead>\n",
                            "    <tr style=\"text-align: right;\">\n",
                            "      <th></th>\n",
                            "      <th>PassengerId</th>\n",
                            "      <th>Survived</th>\n",
                            "      <th>Pclass</th>\n",
                            "      <th>Name</th>\n",
                            "      <th>Sex</th>\n",
                            "      <th>Age</th>\n",
                            "      <th>SibSp</th>\n",
                            "      <th>Parch</th>\n",
                            "      <th>Ticket</th>\n",
                            "      <th>Fare</th>\n",
                            "      <th>Cabin</th>\n",
                            "      <th>Embarked</th>\n",
                            "    </tr>\n",
                            "  </thead>\n",
                            "  <tbody>\n",
                            "    <tr>\n",
                            "      <th>525</th>\n",
                            "      <td>526</td>\n",
                            "      <td>0</td>\n",
                            "      <td>3</td>\n",
                            "      <td>Farrell, Mr. James</td>\n",
                            "      <td>male</td>\n",
                            "      <td>40.5</td>\n",
                            "      <td>0</td>\n",
                            "      <td>0</td>\n",
                            "      <td>367232</td>\n",
                            "      <td>7.7500</td>\n",
                            "      <td>NaN</td>\n",
                            "      <td>Q</td>\n",
                            "    </tr>\n",
                            "    <tr>\n",
                            "      <th>807</th>\n",
                            "      <td>808</td>\n",
                            "      <td>0</td>\n",
                            "      <td>3</td>\n",
                            "      <td>Pettersson, Miss. Ellen Natalia</td>\n",
                            "      <td>female</td>\n",
                            "      <td>18.0</td>\n",
                            "      <td>0</td>\n",
                            "      <td>0</td>\n",
                            "      <td>347087</td>\n",
                            "      <td>7.7750</td>\n",
                            "      <td>NaN</td>\n",
                            "      <td>S</td>\n",
                            "    </tr>\n",
                            "    <tr>\n",
                            "      <th>276</th>\n",
                            "      <td>277</td>\n",
                            "      <td>0</td>\n",
                            "      <td>3</td>\n",
                            "      <td>Lindblom, Miss. Augusta Charlotta</td>\n",
                            "      <td>female</td>\n",
                            "      <td>45.0</td>\n",
                            "      <td>0</td>\n",
                            "      <td>0</td>\n",
                            "      <td>347073</td>\n",
                            "      <td>7.7500</td>\n",
                            "      <td>NaN</td>\n",
                            "      <td>S</td>\n",
                            "    </tr>\n",
                            "    <tr>\n",
                            "      <th>249</th>\n",
                            "      <td>250</td>\n",
                            "      <td>0</td>\n",
                            "      <td>2</td>\n",
                            "      <td>Carter, Rev. Ernest Courtenay</td>\n",
                            "      <td>male</td>\n",
                            "      <td>54.0</td>\n",
                            "      <td>1</td>\n",
                            "      <td>0</td>\n",
                            "      <td>244252</td>\n",
                            "      <td>26.0000</td>\n",
                            "      <td>NaN</td>\n",
                            "      <td>S</td>\n",
                            "    </tr>\n",
                            "    <tr>\n",
                            "      <th>562</th>\n",
                            "      <td>563</td>\n",
                            "      <td>0</td>\n",
                            "      <td>2</td>\n",
                            "      <td>Norman, Mr. Robert Douglas</td>\n",
                            "      <td>male</td>\n",
                            "      <td>28.0</td>\n",
                            "      <td>0</td>\n",
                            "      <td>0</td>\n",
                            "      <td>218629</td>\n",
                            "      <td>13.5000</td>\n",
                            "      <td>NaN</td>\n",
                            "      <td>S</td>\n",
                            "    </tr>\n",
                            "    <tr>\n",
                            "      <th>355</th>\n",
                            "      <td>356</td>\n",
                            "      <td>0</td>\n",
                            "      <td>3</td>\n",
                            "      <td>Vanden Steen, Mr. Leo Peter</td>\n",
                            "      <td>male</td>\n",
                            "      <td>28.0</td>\n",
                            "      <td>0</td>\n",
                            "      <td>0</td>\n",
                            "      <td>345783</td>\n",
                            "      <td>9.5000</td>\n",
                            "      <td>NaN</td>\n",
                            "      <td>S</td>\n",
                            "    </tr>\n",
                            "    <tr>\n",
                            "      <th>536</th>\n",
                            "      <td>537</td>\n",
                            "      <td>0</td>\n",
                            "      <td>1</td>\n",
                            "      <td>Butt, Major. Archibald Willingham</td>\n",
                            "      <td>male</td>\n",
                            "      <td>45.0</td>\n",
                            "      <td>0</td>\n",
                            "      <td>0</td>\n",
                            "      <td>113050</td>\n",
                            "      <td>26.5500</td>\n",
                            "      <td>B38</td>\n",
                            "      <td>S</td>\n",
                            "    </tr>\n",
                            "    <tr>\n",
                            "      <th>410</th>\n",
                            "      <td>411</td>\n",
                            "      <td>0</td>\n",
                            "      <td>3</td>\n",
                            "      <td>Sdycoff, Mr. Todor</td>\n",
                            "      <td>male</td>\n",
                            "      <td>NaN</td>\n",
                            "      <td>0</td>\n",
                            "      <td>0</td>\n",
                            "      <td>349222</td>\n",
                            "      <td>7.8958</td>\n",
                            "      <td>NaN</td>\n",
                            "      <td>S</td>\n",
                            "    </tr>\n",
                            "    <tr>\n",
                            "      <th>716</th>\n",
                            "      <td>717</td>\n",
                            "      <td>1</td>\n",
                            "      <td>1</td>\n",
                            "      <td>Endres, Miss. Caroline Louise</td>\n",
                            "      <td>female</td>\n",
                            "      <td>38.0</td>\n",
                            "      <td>0</td>\n",
                            "      <td>0</td>\n",
                            "      <td>PC 17757</td>\n",
                            "      <td>227.5250</td>\n",
                            "      <td>C45</td>\n",
                            "      <td>C</td>\n",
                            "    </tr>\n",
                            "    <tr>\n",
                            "      <th>766</th>\n",
                            "      <td>767</td>\n",
                            "      <td>0</td>\n",
                            "      <td>1</td>\n",
                            "      <td>Brewe, Dr. Arthur Jackson</td>\n",
                            "      <td>male</td>\n",
                            "      <td>NaN</td>\n",
                            "      <td>0</td>\n",
                            "      <td>0</td>\n",
                            "      <td>112379</td>\n",
                            "      <td>39.6000</td>\n",
                            "      <td>NaN</td>\n",
                            "      <td>C</td>\n",
                            "    </tr>\n",
                            "  </tbody>\n",
                            "</table>\n",
                            "</div>"
                        ],
                        "text/plain": [
                            "     PassengerId  Survived  Pclass                               Name     Sex  \\\n",
                            "525          526         0       3                 Farrell, Mr. James    male   \n",
                            "807          808         0       3    Pettersson, Miss. Ellen Natalia  female   \n",
                            "276          277         0       3  Lindblom, Miss. Augusta Charlotta  female   \n",
                            "249          250         0       2      Carter, Rev. Ernest Courtenay    male   \n",
                            "562          563         0       2         Norman, Mr. Robert Douglas    male   \n",
                            "355          356         0       3        Vanden Steen, Mr. Leo Peter    male   \n",
                            "536          537         0       1  Butt, Major. Archibald Willingham    male   \n",
                            "410          411         0       3                 Sdycoff, Mr. Todor    male   \n",
                            "716          717         1       1      Endres, Miss. Caroline Louise  female   \n",
                            "766          767         0       1          Brewe, Dr. Arthur Jackson    male   \n",
                            "\n",
                            "      Age  SibSp  Parch    Ticket      Fare Cabin Embarked  \n",
                            "525  40.5      0      0    367232    7.7500   NaN        Q  \n",
                            "807  18.0      0      0    347087    7.7750   NaN        S  \n",
                            "276  45.0      0      0    347073    7.7500   NaN        S  \n",
                            "249  54.0      1      0    244252   26.0000   NaN        S  \n",
                            "562  28.0      0      0    218629   13.5000   NaN        S  \n",
                            "355  28.0      0      0    345783    9.5000   NaN        S  \n",
                            "536  45.0      0      0    113050   26.5500   B38        S  \n",
                            "410   NaN      0      0    349222    7.8958   NaN        S  \n",
                            "716  38.0      0      0  PC 17757  227.5250   C45        C  \n",
                            "766   NaN      0      0    112379   39.6000   NaN        C  "
                        ]
                    },
                    "execution_count": 4,
                    "metadata": {},
                    "output_type": "execute_result"
                }
            ],
            "source": [
                "df.sample(10)"
            ]
        },
        {
            "cell_type": "code",
            "execution_count": 5,
            "metadata": {},
            "outputs": [
                {
                    "data": {
                        "text/plain": [
                            "0"
                        ]
                    },
                    "execution_count": 5,
                    "metadata": {},
                    "output_type": "execute_result"
                }
            ],
            "source": [
                "df['PassengerId'].duplicated().sum()\n",
                "#Checking for duplicates\n",
                "#There are 0 duplicates"
            ]
        },
        {
            "cell_type": "code",
            "execution_count": 6,
            "metadata": {},
            "outputs": [],
            "source": [
                "drop_cols = ['PassengerId','Cabin', 'Ticket', 'Name']\n",
                "df.drop(drop_cols, axis = 1, inplace = True)\n",
                "#Drop irrelevant cols"
            ]
        },
        {
            "cell_type": "code",
            "execution_count": 7,
            "metadata": {},
            "outputs": [],
            "source": [
                "X = df.drop(\"Survived\",axis=1)\n",
                "y = df[\"Survived\"]\n",
                "#Selecting features and target"
            ]
        },
        {
            "cell_type": "code",
            "execution_count": 8,
            "metadata": {},
            "outputs": [],
            "source": [
                "X_train, X_test, y_train, y_test = train_test_split(X, y, test_size=0.2, random_state=42)\n",
                "#Split dataset"
            ]
        },
        {
            "cell_type": "code",
            "execution_count": 9,
            "metadata": {},
            "outputs": [],
            "source": [
                "df_train = pd.concat([X_train, y_train], axis=1)\n",
                "#Concatenate train datasets"
            ]
        },
        {
            "cell_type": "code",
            "execution_count": 10,
            "metadata": {},
            "outputs": [
                {
                    "name": "stdout",
                    "output_type": "stream",
                    "text": [
                        "<class 'pandas.core.frame.DataFrame'>\n",
                        "Int64Index: 712 entries, 331 to 102\n",
                        "Data columns (total 8 columns):\n",
                        " #   Column    Non-Null Count  Dtype  \n",
                        "---  ------    --------------  -----  \n",
                        " 0   Pclass    712 non-null    int64  \n",
                        " 1   Sex       712 non-null    object \n",
                        " 2   Age       572 non-null    float64\n",
                        " 3   SibSp     712 non-null    int64  \n",
                        " 4   Parch     712 non-null    int64  \n",
                        " 5   Fare      712 non-null    float64\n",
                        " 6   Embarked  710 non-null    object \n",
                        " 7   Survived  712 non-null    int64  \n",
                        "dtypes: float64(2), int64(4), object(2)\n",
                        "memory usage: 50.1+ KB\n"
                    ]
                }
            ],
            "source": [
                "df_train.info()"
            ]
        },
        {
            "cell_type": "code",
            "execution_count": 11,
            "metadata": {},
            "outputs": [
                {
                    "data": {
                        "text/html": [
                            "<div>\n",
                            "<style scoped>\n",
                            "    .dataframe tbody tr th:only-of-type {\n",
                            "        vertical-align: middle;\n",
                            "    }\n",
                            "\n",
                            "    .dataframe tbody tr th {\n",
                            "        vertical-align: top;\n",
                            "    }\n",
                            "\n",
                            "    .dataframe thead th {\n",
                            "        text-align: right;\n",
                            "    }\n",
                            "</style>\n",
                            "<table border=\"1\" class=\"dataframe\">\n",
                            "  <thead>\n",
                            "    <tr style=\"text-align: right;\">\n",
                            "      <th></th>\n",
                            "      <th>Pclass</th>\n",
                            "      <th>Sex</th>\n",
                            "      <th>Age</th>\n",
                            "      <th>SibSp</th>\n",
                            "      <th>Parch</th>\n",
                            "      <th>Fare</th>\n",
                            "      <th>Embarked</th>\n",
                            "      <th>Survived</th>\n",
                            "    </tr>\n",
                            "  </thead>\n",
                            "  <tbody>\n",
                            "    <tr>\n",
                            "      <th>379</th>\n",
                            "      <td>3</td>\n",
                            "      <td>male</td>\n",
                            "      <td>19.0</td>\n",
                            "      <td>0</td>\n",
                            "      <td>0</td>\n",
                            "      <td>7.7750</td>\n",
                            "      <td>S</td>\n",
                            "      <td>0</td>\n",
                            "    </tr>\n",
                            "    <tr>\n",
                            "      <th>73</th>\n",
                            "      <td>3</td>\n",
                            "      <td>male</td>\n",
                            "      <td>26.0</td>\n",
                            "      <td>1</td>\n",
                            "      <td>0</td>\n",
                            "      <td>14.4542</td>\n",
                            "      <td>C</td>\n",
                            "      <td>0</td>\n",
                            "    </tr>\n",
                            "    <tr>\n",
                            "      <th>757</th>\n",
                            "      <td>2</td>\n",
                            "      <td>male</td>\n",
                            "      <td>18.0</td>\n",
                            "      <td>0</td>\n",
                            "      <td>0</td>\n",
                            "      <td>11.5000</td>\n",
                            "      <td>S</td>\n",
                            "      <td>0</td>\n",
                            "    </tr>\n",
                            "    <tr>\n",
                            "      <th>330</th>\n",
                            "      <td>3</td>\n",
                            "      <td>female</td>\n",
                            "      <td>NaN</td>\n",
                            "      <td>2</td>\n",
                            "      <td>0</td>\n",
                            "      <td>23.2500</td>\n",
                            "      <td>Q</td>\n",
                            "      <td>1</td>\n",
                            "    </tr>\n",
                            "    <tr>\n",
                            "      <th>844</th>\n",
                            "      <td>3</td>\n",
                            "      <td>male</td>\n",
                            "      <td>17.0</td>\n",
                            "      <td>0</td>\n",
                            "      <td>0</td>\n",
                            "      <td>8.6625</td>\n",
                            "      <td>S</td>\n",
                            "      <td>0</td>\n",
                            "    </tr>\n",
                            "    <tr>\n",
                            "      <th>26</th>\n",
                            "      <td>3</td>\n",
                            "      <td>male</td>\n",
                            "      <td>NaN</td>\n",
                            "      <td>0</td>\n",
                            "      <td>0</td>\n",
                            "      <td>7.2250</td>\n",
                            "      <td>C</td>\n",
                            "      <td>0</td>\n",
                            "    </tr>\n",
                            "    <tr>\n",
                            "      <th>440</th>\n",
                            "      <td>2</td>\n",
                            "      <td>female</td>\n",
                            "      <td>45.0</td>\n",
                            "      <td>1</td>\n",
                            "      <td>1</td>\n",
                            "      <td>26.2500</td>\n",
                            "      <td>S</td>\n",
                            "      <td>1</td>\n",
                            "    </tr>\n",
                            "    <tr>\n",
                            "      <th>841</th>\n",
                            "      <td>2</td>\n",
                            "      <td>male</td>\n",
                            "      <td>16.0</td>\n",
                            "      <td>0</td>\n",
                            "      <td>0</td>\n",
                            "      <td>10.5000</td>\n",
                            "      <td>S</td>\n",
                            "      <td>0</td>\n",
                            "    </tr>\n",
                            "    <tr>\n",
                            "      <th>869</th>\n",
                            "      <td>3</td>\n",
                            "      <td>male</td>\n",
                            "      <td>4.0</td>\n",
                            "      <td>1</td>\n",
                            "      <td>1</td>\n",
                            "      <td>11.1333</td>\n",
                            "      <td>S</td>\n",
                            "      <td>1</td>\n",
                            "    </tr>\n",
                            "    <tr>\n",
                            "      <th>220</th>\n",
                            "      <td>3</td>\n",
                            "      <td>male</td>\n",
                            "      <td>16.0</td>\n",
                            "      <td>0</td>\n",
                            "      <td>0</td>\n",
                            "      <td>8.0500</td>\n",
                            "      <td>S</td>\n",
                            "      <td>1</td>\n",
                            "    </tr>\n",
                            "  </tbody>\n",
                            "</table>\n",
                            "</div>"
                        ],
                        "text/plain": [
                            "     Pclass     Sex   Age  SibSp  Parch     Fare Embarked  Survived\n",
                            "379       3    male  19.0      0      0   7.7750        S         0\n",
                            "73        3    male  26.0      1      0  14.4542        C         0\n",
                            "757       2    male  18.0      0      0  11.5000        S         0\n",
                            "330       3  female   NaN      2      0  23.2500        Q         1\n",
                            "844       3    male  17.0      0      0   8.6625        S         0\n",
                            "26        3    male   NaN      0      0   7.2250        C         0\n",
                            "440       2  female  45.0      1      1  26.2500        S         1\n",
                            "841       2    male  16.0      0      0  10.5000        S         0\n",
                            "869       3    male   4.0      1      1  11.1333        S         1\n",
                            "220       3    male  16.0      0      0   8.0500        S         1"
                        ]
                    },
                    "execution_count": 11,
                    "metadata": {},
                    "output_type": "execute_result"
                }
            ],
            "source": [
                "df_train.sample(10)"
            ]
        },
        {
            "cell_type": "code",
            "execution_count": 12,
            "metadata": {},
            "outputs": [
                {
                    "data": {
                        "text/html": [
                            "<div>\n",
                            "<style scoped>\n",
                            "    .dataframe tbody tr th:only-of-type {\n",
                            "        vertical-align: middle;\n",
                            "    }\n",
                            "\n",
                            "    .dataframe tbody tr th {\n",
                            "        vertical-align: top;\n",
                            "    }\n",
                            "\n",
                            "    .dataframe thead th {\n",
                            "        text-align: right;\n",
                            "    }\n",
                            "</style>\n",
                            "<table border=\"1\" class=\"dataframe\">\n",
                            "  <thead>\n",
                            "    <tr style=\"text-align: right;\">\n",
                            "      <th></th>\n",
                            "      <th>Pclass</th>\n",
                            "      <th>Age</th>\n",
                            "      <th>SibSp</th>\n",
                            "      <th>Parch</th>\n",
                            "      <th>Fare</th>\n",
                            "      <th>Survived</th>\n",
                            "    </tr>\n",
                            "  </thead>\n",
                            "  <tbody>\n",
                            "    <tr>\n",
                            "      <th>count</th>\n",
                            "      <td>712.000000</td>\n",
                            "      <td>572.000000</td>\n",
                            "      <td>712.000000</td>\n",
                            "      <td>712.000000</td>\n",
                            "      <td>712.000000</td>\n",
                            "      <td>712.000000</td>\n",
                            "    </tr>\n",
                            "    <tr>\n",
                            "      <th>mean</th>\n",
                            "      <td>2.330056</td>\n",
                            "      <td>29.498846</td>\n",
                            "      <td>0.553371</td>\n",
                            "      <td>0.379213</td>\n",
                            "      <td>32.586276</td>\n",
                            "      <td>0.376404</td>\n",
                            "    </tr>\n",
                            "    <tr>\n",
                            "      <th>std</th>\n",
                            "      <td>0.824584</td>\n",
                            "      <td>14.500059</td>\n",
                            "      <td>1.176404</td>\n",
                            "      <td>0.791669</td>\n",
                            "      <td>51.969529</td>\n",
                            "      <td>0.484824</td>\n",
                            "    </tr>\n",
                            "    <tr>\n",
                            "      <th>min</th>\n",
                            "      <td>1.000000</td>\n",
                            "      <td>0.420000</td>\n",
                            "      <td>0.000000</td>\n",
                            "      <td>0.000000</td>\n",
                            "      <td>0.000000</td>\n",
                            "      <td>0.000000</td>\n",
                            "    </tr>\n",
                            "    <tr>\n",
                            "      <th>25%</th>\n",
                            "      <td>2.000000</td>\n",
                            "      <td>21.000000</td>\n",
                            "      <td>0.000000</td>\n",
                            "      <td>0.000000</td>\n",
                            "      <td>7.925000</td>\n",
                            "      <td>0.000000</td>\n",
                            "    </tr>\n",
                            "    <tr>\n",
                            "      <th>50%</th>\n",
                            "      <td>3.000000</td>\n",
                            "      <td>28.000000</td>\n",
                            "      <td>0.000000</td>\n",
                            "      <td>0.000000</td>\n",
                            "      <td>14.454200</td>\n",
                            "      <td>0.000000</td>\n",
                            "    </tr>\n",
                            "    <tr>\n",
                            "      <th>75%</th>\n",
                            "      <td>3.000000</td>\n",
                            "      <td>38.000000</td>\n",
                            "      <td>1.000000</td>\n",
                            "      <td>0.000000</td>\n",
                            "      <td>30.500000</td>\n",
                            "      <td>1.000000</td>\n",
                            "    </tr>\n",
                            "    <tr>\n",
                            "      <th>max</th>\n",
                            "      <td>3.000000</td>\n",
                            "      <td>80.000000</td>\n",
                            "      <td>8.000000</td>\n",
                            "      <td>6.000000</td>\n",
                            "      <td>512.329200</td>\n",
                            "      <td>1.000000</td>\n",
                            "    </tr>\n",
                            "  </tbody>\n",
                            "</table>\n",
                            "</div>"
                        ],
                        "text/plain": [
                            "           Pclass         Age       SibSp       Parch        Fare    Survived\n",
                            "count  712.000000  572.000000  712.000000  712.000000  712.000000  712.000000\n",
                            "mean     2.330056   29.498846    0.553371    0.379213   32.586276    0.376404\n",
                            "std      0.824584   14.500059    1.176404    0.791669   51.969529    0.484824\n",
                            "min      1.000000    0.420000    0.000000    0.000000    0.000000    0.000000\n",
                            "25%      2.000000   21.000000    0.000000    0.000000    7.925000    0.000000\n",
                            "50%      3.000000   28.000000    0.000000    0.000000   14.454200    0.000000\n",
                            "75%      3.000000   38.000000    1.000000    0.000000   30.500000    1.000000\n",
                            "max      3.000000   80.000000    8.000000    6.000000  512.329200    1.000000"
                        ]
                    },
                    "execution_count": 12,
                    "metadata": {},
                    "output_type": "execute_result"
                }
            ],
            "source": [
                "df_train.describe()\n",
                "#Describe for numerical variables"
            ]
        },
        {
            "cell_type": "code",
            "execution_count": 13,
            "metadata": {},
            "outputs": [
                {
                    "data": {
                        "text/html": [
                            "<div>\n",
                            "<style scoped>\n",
                            "    .dataframe tbody tr th:only-of-type {\n",
                            "        vertical-align: middle;\n",
                            "    }\n",
                            "\n",
                            "    .dataframe tbody tr th {\n",
                            "        vertical-align: top;\n",
                            "    }\n",
                            "\n",
                            "    .dataframe thead th {\n",
                            "        text-align: right;\n",
                            "    }\n",
                            "</style>\n",
                            "<table border=\"1\" class=\"dataframe\">\n",
                            "  <thead>\n",
                            "    <tr style=\"text-align: right;\">\n",
                            "      <th></th>\n",
                            "      <th>Sex</th>\n",
                            "      <th>Embarked</th>\n",
                            "    </tr>\n",
                            "  </thead>\n",
                            "  <tbody>\n",
                            "    <tr>\n",
                            "      <th>count</th>\n",
                            "      <td>712</td>\n",
                            "      <td>710</td>\n",
                            "    </tr>\n",
                            "    <tr>\n",
                            "      <th>unique</th>\n",
                            "      <td>2</td>\n",
                            "      <td>3</td>\n",
                            "    </tr>\n",
                            "    <tr>\n",
                            "      <th>top</th>\n",
                            "      <td>male</td>\n",
                            "      <td>S</td>\n",
                            "    </tr>\n",
                            "    <tr>\n",
                            "      <th>freq</th>\n",
                            "      <td>467</td>\n",
                            "      <td>525</td>\n",
                            "    </tr>\n",
                            "  </tbody>\n",
                            "</table>\n",
                            "</div>"
                        ],
                        "text/plain": [
                            "         Sex Embarked\n",
                            "count    712      710\n",
                            "unique     2        3\n",
                            "top     male        S\n",
                            "freq     467      525"
                        ]
                    },
                    "execution_count": 13,
                    "metadata": {},
                    "output_type": "execute_result"
                }
            ],
            "source": [
                "df_train.describe(include='object')\n",
                "#Describe for categorical variables"
            ]
        },
        {
            "cell_type": "code",
            "execution_count": 54,
            "metadata": {},
            "outputs": [
                {
                    "data": {
                        "image/png": "[encoded data removed]",
                        "text/plain": [
                            "<Figure size 576x576 with 6 Axes>"
                        ]
                    },
                    "metadata": {
                        "needs_background": "light"
                    },
                    "output_type": "display_data"
                }
            ],
            "source": [
                "X_train.hist(figsize=(8,8), alpha=0.5)\n",
                "plt.show()\n",
                "#Histogram"
            ]
        },
        {
            "cell_type": "code",
            "execution_count": 55,
            "metadata": {},
            "outputs": [
                {
                    "data": {
                        "image/png": "[encoded data removed]",
                        "text/plain": [
                            "<Figure size 576x576 with 25 Axes>"
                        ]
                    },
                    "metadata": {
                        "needs_background": "light"
                    },
                    "output_type": "display_data"
                }
            ],
            "source": [
                "pd.plotting.scatter_matrix(X_train, diagonal='kde', figsize=(8,8), c='Violet')\n",
                "plt.show()\n",
                "#Scatter plot"
            ]
        },
        {
            "cell_type": "code",
            "execution_count": 56,
            "metadata": {},
            "outputs": [
                {
                    "data": {
                        "image/png": "[encoded data removed]",
                        "text/plain": [
                            "<Figure size 432x288 with 1 Axes>"
                        ]
                    },
                    "metadata": {
                        "needs_background": "light"
                    },
                    "output_type": "display_data"
                }
            ],
            "source": [
                "#Categorical analysis \n",
                "sns.countplot(data=X_train, x='Sex')\n",
                "plt.show()"
            ]
        },
        {
            "cell_type": "code",
            "execution_count": 57,
            "metadata": {},
            "outputs": [
                {
                    "data": {
                        "image/png": "[encoded data removed]",
                        "text/plain": [
                            "<Figure size 432x288 with 1 Axes>"
                        ]
                    },
                    "metadata": {
                        "needs_background": "light"
                    },
                    "output_type": "display_data"
                }
            ],
            "source": [
                "sns.countplot(data=X_train, x='Embarked')\n",
                "plt.show()"
            ]
        },
        {
            "cell_type": "code",
            "execution_count": 58,
            "metadata": {},
            "outputs": [
                {
                    "data": {
                        "image/png": "[encoded data removed]",
                        "text/plain": [
                            "<Figure size 432x288 with 1 Axes>"
                        ]
                    },
                    "metadata": {
                        "needs_background": "light"
                    },
                    "output_type": "display_data"
                }
            ],
            "source": [
                "sns.countplot(data=X_train, x='Sex', hue='Embarked')\n",
                "plt.show()"
            ]
        },
        {
            "cell_type": "code",
            "execution_count": 59,
            "metadata": {},
            "outputs": [
                {
                    "data": {
                        "image/png": "[encoded data removed]",
                        "text/plain": [
                            "<Figure size 864x576 with 2 Axes>"
                        ]
                    },
                    "metadata": {
                        "needs_background": "light"
                    },
                    "output_type": "display_data"
                }
            ],
            "source": [
                "plt.figure(figsize=(12, 8))\n",
                "sns.heatmap(X_train.corr(), annot=True, cmap='viridis')\n",
                "plt.show()\n",
                "#Correlation matrix\n",
                "#Pclass y fare están correlacionadas negativamente porque a clases más bajas numéricamente (por ejemplo, primera clase)\n",
                "#las tarifas son más altas\n",
                "#Pclass también está relacionada con survived, hay más probabilidades de sobrevivir siendo de clase 1"
            ]
        },
        {
            "cell_type": "code",
            "execution_count": 14,
            "metadata": {},
            "outputs": [],
            "source": [
                "X_train['Age'].fillna(X_train['Age'].mean(), inplace=True)\n",
                "X_test['Age'].fillna(X_train['Age'].mean(), inplace=True)\n",
                "#Fill missing values in age with mean"
            ]
        },
        {
            "cell_type": "code",
            "execution_count": 15,
            "metadata": {},
            "outputs": [],
            "source": [
                "X_train['Fare'].fillna(X_train['Fare'].median(), inplace=True)\n",
                "X_test['Fare'].fillna(X_train['Fare'].median(), inplace=True)\n",
                "#Fill missing values in fare with median"
            ]
        },
        {
            "cell_type": "code",
            "execution_count": 16,
            "metadata": {},
            "outputs": [],
            "source": [
                "X_train[['Sex','Embarked']]=X_train[['Sex','Embarked']].astype('category')\n",
                "X_test[['Sex','Embarked']]=X_test[['Sex','Embarked']].astype('category')\n",
                "\n",
                "X_train['Sex']=X_train['Sex'].cat.codes\n",
                "X_train['Embarked']=X_train['Embarked'].cat.codes\n",
                "X_test['Sex']=X_test['Sex'].cat.codes\n",
                "X_test['Embarked']=X_test['Embarked'].cat.codes\n",
                "#Encoding categ variables\n"
            ]
        },
        {
            "cell_type": "code",
            "execution_count": 17,
            "metadata": {},
            "outputs": [
                {
                    "data": {
                        "text/plain": [
                            "0.7932960893854749"
                        ]
                    },
                    "execution_count": 17,
                    "metadata": {},
                    "output_type": "execute_result"
                }
            ],
            "source": [
                "clf = DecisionTreeClassifier()\n",
                "clf.fit(X_train, y_train)\n",
                "y_pred = clf.predict(X_test)\n",
                "accuracy_score(y_test, y_pred)\n",
                "#Fit a Decision Tree model as comparison"
            ]
        },
        {
            "cell_type": "code",
            "execution_count": 18,
            "metadata": {},
            "outputs": [
                {
                    "data": {
                        "text/plain": [
                            "0.8100558659217877"
                        ]
                    },
                    "execution_count": 18,
                    "metadata": {},
                    "output_type": "execute_result"
                }
            ],
            "source": [
                "clf2 = RandomForestClassifier(n_estimators=100, random_state=1107)\n",
                "clf2.fit(X_train, y_train)\n",
                "y_pred2 = clf2.predict(X_test)\n",
                "accuracy_score(y_test, y_pred2)\n",
                "#Fit a Random Forest model\n",
                "#Compared to decision tree, accuracy goes up around 4%"
            ]
        },
        {
            "cell_type": "code",
            "execution_count": 19,
            "metadata": {},
            "outputs": [
                {
                    "data": {
                        "image/png": "[encoded data removed]",
                        "text/plain": [
                            "<Figure size 432x288 with 2 Axes>"
                        ]
                    },
                    "metadata": {
                        "needs_background": "light"
                    },
                    "output_type": "display_data"
                }
            ],
            "source": [
                "cm = confusion_matrix(y_test, y_pred2, labels=clf2.classes_)\n",
                "disp = ConfusionMatrixDisplay(confusion_matrix = cm,\n",
                "display_labels = clf2.classes_)\n",
                "disp.plot()\n",
                "plt.show()\n",
                "\n",
                "#90 TP = predicted positive and it’s true.\n",
                "#55 TN = predicted negative and it’s true.\n",
                "#15 FP = predicted positive and it’s false.\n",
                "#19 FN = predicted negative and it’s false."
            ]
        },
        {
            "cell_type": "code",
            "execution_count": 20,
            "metadata": {},
            "outputs": [
                {
                    "name": "stdout",
                    "output_type": "stream",
                    "text": [
                        "              precision    recall  f1-score   support\n",
                        "\n",
                        "           0       0.83      0.86      0.84       105\n",
                        "           1       0.79      0.74      0.76        74\n",
                        "\n",
                        "    accuracy                           0.81       179\n",
                        "   macro avg       0.81      0.80      0.80       179\n",
                        "weighted avg       0.81      0.81      0.81       179\n",
                        "\n"
                    ]
                }
            ],
            "source": [
                "print(classification_report(y_test,y_pred2))\n",
                "#Precision: from all the positive classes, how many we predicted correctly (0.83)\n",
                "#Recall: from all the classes we have predicted as positive, how many are actually positive (0.86)"
            ]
        },
        {
            "cell_type": "code",
            "execution_count": 21,
            "metadata": {},
            "outputs": [
                {
                    "name": "stdout",
                    "output_type": "stream",
                    "text": [
                        "{'bootstrap': True, 'ccp_alpha': 0.0, 'class_weight': None, 'criterion': 'gini', 'max_depth': None, 'max_features': 'sqrt', 'max_leaf_nodes': None, 'max_samples': None, 'min_impurity_decrease': 0.0, 'min_samples_leaf': 1, 'min_samples_split': 2, 'min_weight_fraction_leaf': 0.0, 'n_estimators': 100, 'n_jobs': None, 'oob_score': False, 'random_state': 1107, 'verbose': 0, 'warm_start': False}\n"
                    ]
                }
            ],
            "source": [
                "print(clf2.get_params())"
            ]
        },
        {
            "cell_type": "code",
            "execution_count": 22,
            "metadata": {},
            "outputs": [
                {
                    "name": "stdout",
                    "output_type": "stream",
                    "text": [
                        "{'n_estimators': [50, 162, 275, 387, 500], 'max_depth': [10, 20, 30, 40, 50, 60, 70, 80, 90, 100, 110, None], 'min_samples_split': [2, 5, 10], 'min_samples_leaf': [1, 2, 4], 'bootstrap': [True, False]}\n"
                    ]
                }
            ],
            "source": [
                "# Number of trees in random forest\n",
                "n_estimators = [int(x) for x in np.linspace(start = 50, stop = 500, num = 5)]\n",
                "# Number of features to consider at every split\n",
                "max_depth = [int(x) for x in np.linspace(10, 110, num = 11)]\n",
                "max_depth.append(None)\n",
                "# Minimum number of samples required to split a node\n",
                "min_samples_split = [2, 5, 10]\n",
                "# Minimum number of samples required at each leaf node\n",
                "min_samples_leaf = [1, 2, 4]\n",
                "# Method of selecting samples for training each tree\n",
                "bootstrap = [True, False]\n",
                "# Create the random grid\n",
                "random_grid = {'n_estimators': n_estimators,\n",
                "               'max_depth': max_depth,\n",
                "               'min_samples_split': min_samples_split,\n",
                "               'min_samples_leaf': min_samples_leaf,\n",
                "               'bootstrap': bootstrap}\n",
                "print(random_grid)\n",
                "\n",
                "\n",
                "#On each iteration, the algorithm will choose a difference combination of the features. Altogether, there are 5 * 12 * 3 * 3 * 2 = 1080 settings"
            ]
        },
        {
            "cell_type": "code",
            "execution_count": 23,
            "metadata": {},
            "outputs": [],
            "source": [
                "rf_cl = RandomForestClassifier(random_state=1107) #Base model\n",
                "rf_cl_cv = RandomizedSearchCV(estimator = rf_cl, param_distributions = random_grid, n_iter = 100, cv = 5, verbose=2, random_state=1107, n_jobs = -1) #Random search"
            ]
        },
        {
            "cell_type": "code",
            "execution_count": 24,
            "metadata": {},
            "outputs": [
                {
                    "name": "stdout",
                    "output_type": "stream",
                    "text": [
                        "Fitting 5 folds for each of 100 candidates, totalling 500 fits\n"
                    ]
                },
                {
                    "data": {
                        "text/html": [
                            "<style>#sk-container-id-1 {color: black;background-color: white;}#sk-container-id-1 pre{padding: 0;}#sk-container-id-1 div.sk-toggleable {background-color: white;}#sk-container-id-1 label.sk-toggleable__label {cursor: pointer;display: block;width: 100%;margin-bottom: 0;padding: 0.3em;box-sizing: border-box;text-align: center;}#sk-container-id-1 label.sk-toggleable__label-arrow:before {content: \"▸\";float: left;margin-right: 0.25em;color: #696969;}#sk-container-id-1 label.sk-toggleable__label-arrow:hover:before {color: black;}#sk-container-id-1 div.sk-estimator:hover label.sk-toggleable__label-arrow:before {color: black;}#sk-container-id-1 div.sk-toggleable__content {max-height: 0;max-width: 0;overflow: hidden;text-align: left;background-color: #f0f8ff;}#sk-container-id-1 div.sk-toggleable__content pre {margin: 0.2em;color: black;border-radius: 0.25em;background-color: #f0f8ff;}#sk-container-id-1 input.sk-toggleable__control:checked~div.sk-toggleable__content {max-height: 200px;max-width: 100%;overflow: auto;}#sk-container-id-1 input.sk-toggleable__control:checked~label.sk-toggleable__label-arrow:before {content: \"▾\";}#sk-container-id-1 div.sk-estimator input.sk-toggleable__control:checked~label.sk-toggleable__label {background-color: #d4ebff;}#sk-container-id-1 div.sk-label input.sk-toggleable__control:checked~label.sk-toggleable__label {background-color: #d4ebff;}#sk-container-id-1 input.sk-hidden--visually {border: 0;clip: rect(1px 1px 1px 1px);clip: rect(1px, 1px, 1px, 1px);height: 1px;margin: -1px;overflow: hidden;padding: 0;position: absolute;width: 1px;}#sk-container-id-1 div.sk-estimator {font-family: monospace;background-color: #f0f8ff;border: 1px dotted black;border-radius: 0.25em;box-sizing: border-box;margin-bottom: 0.5em;}#sk-container-id-1 div.sk-estimator:hover {background-color: #d4ebff;}#sk-container-id-1 div.sk-parallel-item::after {content: \"\";width: 100%;border-bottom: 1px solid gray;flex-grow: 1;}#sk-container-id-1 div.sk-label:hover label.sk-toggleable__label {background-color: #d4ebff;}#sk-container-id-1 div.sk-serial::before {content: \"\";position: absolute;border-left: 1px solid gray;box-sizing: border-box;top: 0;bottom: 0;left: 50%;z-index: 0;}#sk-container-id-1 div.sk-serial {display: flex;flex-direction: column;align-items: center;background-color: white;padding-right: 0.2em;padding-left: 0.2em;position: relative;}#sk-container-id-1 div.sk-item {position: relative;z-index: 1;}#sk-container-id-1 div.sk-parallel {display: flex;align-items: stretch;justify-content: center;background-color: white;position: relative;}#sk-container-id-1 div.sk-item::before, #sk-container-id-1 div.sk-parallel-item::before {content: \"\";position: absolute;border-left: 1px solid gray;box-sizing: border-box;top: 0;bottom: 0;left: 50%;z-index: -1;}#sk-container-id-1 div.sk-parallel-item {display: flex;flex-direction: column;z-index: 1;position: relative;background-color: white;}#sk-container-id-1 div.sk-parallel-item:first-child::after {align-self: flex-end;width: 50%;}#sk-container-id-1 div.sk-parallel-item:last-child::after {align-self: flex-start;width: 50%;}#sk-container-id-1 div.sk-parallel-item:only-child::after {width: 0;}#sk-container-id-1 div.sk-dashed-wrapped {border: 1px dashed gray;margin: 0 0.4em 0.5em 0.4em;box-sizing: border-box;padding-bottom: 0.4em;background-color: white;}#sk-container-id-1 div.sk-label label {font-family: monospace;font-weight: bold;display: inline-block;line-height: 1.2em;}#sk-container-id-1 div.sk-label-container {text-align: center;}#sk-container-id-1 div.sk-container {/* jupyter's `normalize.less` sets `[hidden] { display: none; }` but bootstrap.min.css set `[hidden] { display: none !important; }` so we also need the `!important` here to be able to override the default hidden behavior on the sphinx rendered scikit-learn.org. See: https://github.com/scikit-learn/scikit-learn/issues/21755 */display: inline-block !important;position: relative;}#sk-container-id-1 div.sk-text-repr-fallback {display: none;}</style><div id=\"sk-container-id-1\" class=\"sk-top-container\"><div class=\"sk-text-repr-fallback\"><pre>RandomizedSearchCV(cv=5, estimator=RandomForestClassifier(random_state=1107),\n",
                            "                   n_iter=100, n_jobs=-1,\n",
                            "                   param_distributions={&#x27;bootstrap&#x27;: [True, False],\n",
                            "                                        &#x27;max_depth&#x27;: [10, 20, 30, 40, 50, 60,\n",
                            "                                                      70, 80, 90, 100, 110,\n",
                            "                                                      None],\n",
                            "                                        &#x27;min_samples_leaf&#x27;: [1, 2, 4],\n",
                            "                                        &#x27;min_samples_split&#x27;: [2, 5, 10],\n",
                            "                                        &#x27;n_estimators&#x27;: [50, 162, 275, 387,\n",
                            "                                                         500]},\n",
                            "                   random_state=1107, verbose=2)</pre><b>In a Jupyter environment, please rerun this cell to show the HTML representation or trust the notebook. <br />On GitHub, the HTML representation is unable to render, please try loading this page with nbviewer.org.</b></div><div class=\"sk-container\" hidden><div class=\"sk-item sk-dashed-wrapped\"><div class=\"sk-label-container\"><div class=\"sk-label sk-toggleable\"><input class=\"sk-toggleable__control sk-hidden--visually\" id=\"sk-estimator-id-1\" type=\"checkbox\" ><label for=\"sk-estimator-id-1\" class=\"sk-toggleable__label sk-toggleable__label-arrow\">RandomizedSearchCV</label><div class=\"sk-toggleable__content\"><pre>RandomizedSearchCV(cv=5, estimator=RandomForestClassifier(random_state=1107),\n",
                            "                   n_iter=100, n_jobs=-1,\n",
                            "                   param_distributions={&#x27;bootstrap&#x27;: [True, False],\n",
                            "                                        &#x27;max_depth&#x27;: [10, 20, 30, 40, 50, 60,\n",
                            "                                                      70, 80, 90, 100, 110,\n",
                            "                                                      None],\n",
                            "                                        &#x27;min_samples_leaf&#x27;: [1, 2, 4],\n",
                            "                                        &#x27;min_samples_split&#x27;: [2, 5, 10],\n",
                            "                                        &#x27;n_estimators&#x27;: [50, 162, 275, 387,\n",
                            "                                                         500]},\n",
                            "                   random_state=1107, verbose=2)</pre></div></div></div><div class=\"sk-parallel\"><div class=\"sk-parallel-item\"><div class=\"sk-item\"><div class=\"sk-label-container\"><div class=\"sk-label sk-toggleable\"><input class=\"sk-toggleable__control sk-hidden--visually\" id=\"sk-estimator-id-2\" type=\"checkbox\" ><label for=\"sk-estimator-id-2\" class=\"sk-toggleable__label sk-toggleable__label-arrow\">estimator: RandomForestClassifier</label><div class=\"sk-toggleable__content\"><pre>RandomForestClassifier(random_state=1107)</pre></div></div></div><div class=\"sk-serial\"><div class=\"sk-item\"><div class=\"sk-estimator sk-toggleable\"><input class=\"sk-toggleable__control sk-hidden--visually\" id=\"sk-estimator-id-3\" type=\"checkbox\" ><label for=\"sk-estimator-id-3\" class=\"sk-toggleable__label sk-toggleable__label-arrow\">RandomForestClassifier</label><div class=\"sk-toggleable__content\"><pre>RandomForestClassifier(random_state=1107)</pre></div></div></div></div></div></div></div></div></div></div>"
                        ],
                        "text/plain": [
                            "RandomizedSearchCV(cv=5, estimator=RandomForestClassifier(random_state=1107),\n",
                            "                   n_iter=100, n_jobs=-1,\n",
                            "                   param_distributions={'bootstrap': [True, False],\n",
                            "                                        'max_depth': [10, 20, 30, 40, 50, 60,\n",
                            "                                                      70, 80, 90, 100, 110,\n",
                            "                                                      None],\n",
                            "                                        'min_samples_leaf': [1, 2, 4],\n",
                            "                                        'min_samples_split': [2, 5, 10],\n",
                            "                                        'n_estimators': [50, 162, 275, 387,\n",
                            "                                                         500]},\n",
                            "                   random_state=1107, verbose=2)"
                        ]
                    },
                    "execution_count": 24,
                    "metadata": {},
                    "output_type": "execute_result"
                }
            ],
            "source": [
                "rf_cl_cv.fit(X_train,y_train) #Fit the random search model"
            ]
        },
        {
            "cell_type": "code",
            "execution_count": 25,
            "metadata": {},
            "outputs": [
                {
                    "data": {
                        "text/plain": [
                            "{'n_estimators': 50,\n",
                            " 'min_samples_split': 10,\n",
                            " 'min_samples_leaf': 1,\n",
                            " 'max_depth': 50,\n",
                            " 'bootstrap': True}"
                        ]
                    },
                    "execution_count": 25,
                    "metadata": {},
                    "output_type": "execute_result"
                }
            ],
            "source": [
                "rf_cl_cv.best_params_"
            ]
        },
        {
            "cell_type": "code",
            "execution_count": 26,
            "metadata": {},
            "outputs": [
                {
                    "data": {
                        "text/html": [
                            "<style>#sk-container-id-2 {color: black;background-color: white;}#sk-container-id-2 pre{padding: 0;}#sk-container-id-2 div.sk-toggleable {background-color: white;}#sk-container-id-2 label.sk-toggleable__label {cursor: pointer;display: block;width: 100%;margin-bottom: 0;padding: 0.3em;box-sizing: border-box;text-align: center;}#sk-container-id-2 label.sk-toggleable__label-arrow:before {content: \"▸\";float: left;margin-right: 0.25em;color: #696969;}#sk-container-id-2 label.sk-toggleable__label-arrow:hover:before {color: black;}#sk-container-id-2 div.sk-estimator:hover label.sk-toggleable__label-arrow:before {color: black;}#sk-container-id-2 div.sk-toggleable__content {max-height: 0;max-width: 0;overflow: hidden;text-align: left;background-color: #f0f8ff;}#sk-container-id-2 div.sk-toggleable__content pre {margin: 0.2em;color: black;border-radius: 0.25em;background-color: #f0f8ff;}#sk-container-id-2 input.sk-toggleable__control:checked~div.sk-toggleable__content {max-height: 200px;max-width: 100%;overflow: auto;}#sk-container-id-2 input.sk-toggleable__control:checked~label.sk-toggleable__label-arrow:before {content: \"▾\";}#sk-container-id-2 div.sk-estimator input.sk-toggleable__control:checked~label.sk-toggleable__label {background-color: #d4ebff;}#sk-container-id-2 div.sk-label input.sk-toggleable__control:checked~label.sk-toggleable__label {background-color: #d4ebff;}#sk-container-id-2 input.sk-hidden--visually {border: 0;clip: rect(1px 1px 1px 1px);clip: rect(1px, 1px, 1px, 1px);height: 1px;margin: -1px;overflow: hidden;padding: 0;position: absolute;width: 1px;}#sk-container-id-2 div.sk-estimator {font-family: monospace;background-color: #f0f8ff;border: 1px dotted black;border-radius: 0.25em;box-sizing: border-box;margin-bottom: 0.5em;}#sk-container-id-2 div.sk-estimator:hover {background-color: #d4ebff;}#sk-container-id-2 div.sk-parallel-item::after {content: \"\";width: 100%;border-bottom: 1px solid gray;flex-grow: 1;}#sk-container-id-2 div.sk-label:hover label.sk-toggleable__label {background-color: #d4ebff;}#sk-container-id-2 div.sk-serial::before {content: \"\";position: absolute;border-left: 1px solid gray;box-sizing: border-box;top: 0;bottom: 0;left: 50%;z-index: 0;}#sk-container-id-2 div.sk-serial {display: flex;flex-direction: column;align-items: center;background-color: white;padding-right: 0.2em;padding-left: 0.2em;position: relative;}#sk-container-id-2 div.sk-item {position: relative;z-index: 1;}#sk-container-id-2 div.sk-parallel {display: flex;align-items: stretch;justify-content: center;background-color: white;position: relative;}#sk-container-id-2 div.sk-item::before, #sk-container-id-2 div.sk-parallel-item::before {content: \"\";position: absolute;border-left: 1px solid gray;box-sizing: border-box;top: 0;bottom: 0;left: 50%;z-index: -1;}#sk-container-id-2 div.sk-parallel-item {display: flex;flex-direction: column;z-index: 1;position: relative;background-color: white;}#sk-container-id-2 div.sk-parallel-item:first-child::after {align-self: flex-end;width: 50%;}#sk-container-id-2 div.sk-parallel-item:last-child::after {align-self: flex-start;width: 50%;}#sk-container-id-2 div.sk-parallel-item:only-child::after {width: 0;}#sk-container-id-2 div.sk-dashed-wrapped {border: 1px dashed gray;margin: 0 0.4em 0.5em 0.4em;box-sizing: border-box;padding-bottom: 0.4em;background-color: white;}#sk-container-id-2 div.sk-label label {font-family: monospace;font-weight: bold;display: inline-block;line-height: 1.2em;}#sk-container-id-2 div.sk-label-container {text-align: center;}#sk-container-id-2 div.sk-container {/* jupyter's `normalize.less` sets `[hidden] { display: none; }` but bootstrap.min.css set `[hidden] { display: none !important; }` so we also need the `!important` here to be able to override the default hidden behavior on the sphinx rendered scikit-learn.org. See: https://github.com/scikit-learn/scikit-learn/issues/21755 */display: inline-block !important;position: relative;}#sk-container-id-2 div.sk-text-repr-fallback {display: none;}</style><div id=\"sk-container-id-2\" class=\"sk-top-container\"><div class=\"sk-text-repr-fallback\"><pre>RandomForestClassifier(max_depth=50, min_samples_split=10, n_estimators=50,\n",
                            "                       random_state=1107)</pre><b>In a Jupyter environment, please rerun this cell to show the HTML representation or trust the notebook. <br />On GitHub, the HTML representation is unable to render, please try loading this page with nbviewer.org.</b></div><div class=\"sk-container\" hidden><div class=\"sk-item\"><div class=\"sk-estimator sk-toggleable\"><input class=\"sk-toggleable__control sk-hidden--visually\" id=\"sk-estimator-id-4\" type=\"checkbox\" checked><label for=\"sk-estimator-id-4\" class=\"sk-toggleable__label sk-toggleable__label-arrow\">RandomForestClassifier</label><div class=\"sk-toggleable__content\"><pre>RandomForestClassifier(max_depth=50, min_samples_split=10, n_estimators=50,\n",
                            "                       random_state=1107)</pre></div></div></div></div></div>"
                        ],
                        "text/plain": [
                            "RandomForestClassifier(max_depth=50, min_samples_split=10, n_estimators=50,\n",
                            "                       random_state=1107)"
                        ]
                    },
                    "execution_count": 26,
                    "metadata": {},
                    "output_type": "execute_result"
                }
            ],
            "source": [
                "#Con los mejores parámetros estimo modelo\n",
                "rf_ht = RandomForestClassifier(random_state=1107, n_estimators=50, min_samples_split=10, min_samples_leaf=1, max_depth=50, bootstrap=True)\n",
                "rf_ht.fit(X_train, y_train)"
            ]
        },
        {
            "cell_type": "code",
            "execution_count": 27,
            "metadata": {},
            "outputs": [],
            "source": [
                "y_pred_rf = rf_ht.predict(X_test)"
            ]
        },
        {
            "cell_type": "code",
            "execution_count": 28,
            "metadata": {},
            "outputs": [
                {
                    "name": "stdout",
                    "output_type": "stream",
                    "text": [
                        "              precision    recall  f1-score   support\n",
                        "\n",
                        "           0       0.83      0.90      0.87       105\n",
                        "           1       0.85      0.74      0.79        74\n",
                        "\n",
                        "    accuracy                           0.84       179\n",
                        "   macro avg       0.84      0.82      0.83       179\n",
                        "weighted avg       0.84      0.84      0.84       179\n",
                        "\n"
                    ]
                }
            ],
            "source": [
                "print(classification_report(y_test,y_pred_rf))\n",
                "#Precision 0.83, recall 0.90 (mejoró el recall)"
            ]
        },
        {
            "cell_type": "code",
            "execution_count": 29,
            "metadata": {},
            "outputs": [],
            "source": [
                "filename = '../models/final_model.sav'\n",
                "pickle.dump(rf_ht, open(filename, 'wb'))"
            ]
        },
        {
            "cell_type": "markdown",
            "metadata": {},
            "source": [
                "# Boosting Algorithms Project"
            ]
        },
        {
            "cell_type": "code",
            "execution_count": 31,
            "metadata": {},
            "outputs": [],
            "source": [
                "from xgboost import XGBClassifier"
            ]
        },
        {
            "cell_type": "code",
            "execution_count": 32,
            "metadata": {},
            "outputs": [
                {
                    "data": {
                        "text/html": [
                            "<style>#sk-container-id-3 {color: black;background-color: white;}#sk-container-id-3 pre{padding: 0;}#sk-container-id-3 div.sk-toggleable {background-color: white;}#sk-container-id-3 label.sk-toggleable__label {cursor: pointer;display: block;width: 100%;margin-bottom: 0;padding: 0.3em;box-sizing: border-box;text-align: center;}#sk-container-id-3 label.sk-toggleable__label-arrow:before {content: \"▸\";float: left;margin-right: 0.25em;color: #696969;}#sk-container-id-3 label.sk-toggleable__label-arrow:hover:before {color: black;}#sk-container-id-3 div.sk-estimator:hover label.sk-toggleable__label-arrow:before {color: black;}#sk-container-id-3 div.sk-toggleable__content {max-height: 0;max-width: 0;overflow: hidden;text-align: left;background-color: #f0f8ff;}#sk-container-id-3 div.sk-toggleable__content pre {margin: 0.2em;color: black;border-radius: 0.25em;background-color: #f0f8ff;}#sk-container-id-3 input.sk-toggleable__control:checked~div.sk-toggleable__content {max-height: 200px;max-width: 100%;overflow: auto;}#sk-container-id-3 input.sk-toggleable__control:checked~label.sk-toggleable__label-arrow:before {content: \"▾\";}#sk-container-id-3 div.sk-estimator input.sk-toggleable__control:checked~label.sk-toggleable__label {background-color: #d4ebff;}#sk-container-id-3 div.sk-label input.sk-toggleable__control:checked~label.sk-toggleable__label {background-color: #d4ebff;}#sk-container-id-3 input.sk-hidden--visually {border: 0;clip: rect(1px 1px 1px 1px);clip: rect(1px, 1px, 1px, 1px);height: 1px;margin: -1px;overflow: hidden;padding: 0;position: absolute;width: 1px;}#sk-container-id-3 div.sk-estimator {font-family: monospace;background-color: #f0f8ff;border: 1px dotted black;border-radius: 0.25em;box-sizing: border-box;margin-bottom: 0.5em;}#sk-container-id-3 div.sk-estimator:hover {background-color: #d4ebff;}#sk-container-id-3 div.sk-parallel-item::after {content: \"\";width: 100%;border-bottom: 1px solid gray;flex-grow: 1;}#sk-container-id-3 div.sk-label:hover label.sk-toggleable__label {background-color: #d4ebff;}#sk-container-id-3 div.sk-serial::before {content: \"\";position: absolute;border-left: 1px solid gray;box-sizing: border-box;top: 0;bottom: 0;left: 50%;z-index: 0;}#sk-container-id-3 div.sk-serial {display: flex;flex-direction: column;align-items: center;background-color: white;padding-right: 0.2em;padding-left: 0.2em;position: relative;}#sk-container-id-3 div.sk-item {position: relative;z-index: 1;}#sk-container-id-3 div.sk-parallel {display: flex;align-items: stretch;justify-content: center;background-color: white;position: relative;}#sk-container-id-3 div.sk-item::before, #sk-container-id-3 div.sk-parallel-item::before {content: \"\";position: absolute;border-left: 1px solid gray;box-sizing: border-box;top: 0;bottom: 0;left: 50%;z-index: -1;}#sk-container-id-3 div.sk-parallel-item {display: flex;flex-direction: column;z-index: 1;position: relative;background-color: white;}#sk-container-id-3 div.sk-parallel-item:first-child::after {align-self: flex-end;width: 50%;}#sk-container-id-3 div.sk-parallel-item:last-child::after {align-self: flex-start;width: 50%;}#sk-container-id-3 div.sk-parallel-item:only-child::after {width: 0;}#sk-container-id-3 div.sk-dashed-wrapped {border: 1px dashed gray;margin: 0 0.4em 0.5em 0.4em;box-sizing: border-box;padding-bottom: 0.4em;background-color: white;}#sk-container-id-3 div.sk-label label {font-family: monospace;font-weight: bold;display: inline-block;line-height: 1.2em;}#sk-container-id-3 div.sk-label-container {text-align: center;}#sk-container-id-3 div.sk-container {/* jupyter's `normalize.less` sets `[hidden] { display: none; }` but bootstrap.min.css set `[hidden] { display: none !important; }` so we also need the `!important` here to be able to override the default hidden behavior on the sphinx rendered scikit-learn.org. See: https://github.com/scikit-learn/scikit-learn/issues/21755 */display: inline-block !important;position: relative;}#sk-container-id-3 div.sk-text-repr-fallback {display: none;}</style><div id=\"sk-container-id-3\" class=\"sk-top-container\"><div class=\"sk-text-repr-fallback\"><pre>XGBClassifier(base_score=0.5, booster=&#x27;gbtree&#x27;, callbacks=None,\n",
                            "              colsample_bylevel=1, colsample_bynode=1, colsample_bytree=1,\n",
                            "              early_stopping_rounds=None, enable_categorical=False,\n",
                            "              eval_metric=&#x27;mlogloss&#x27;, gamma=0, gpu_id=-1,\n",
                            "              grow_policy=&#x27;depthwise&#x27;, importance_type=None,\n",
                            "              interaction_constraints=&#x27;&#x27;, learning_rate=0.300000012,\n",
                            "              max_bin=256, max_cat_to_onehot=4, max_delta_step=0, max_depth=6,\n",
                            "              max_leaves=0, min_child_weight=1, missing=nan,\n",
                            "              monotone_constraints=&#x27;()&#x27;, n_estimators=100, n_jobs=0,\n",
                            "              num_parallel_tree=1, predictor=&#x27;auto&#x27;, random_state=0,\n",
                            "              reg_alpha=0, reg_lambda=1, ...)</pre><b>In a Jupyter environment, please rerun this cell to show the HTML representation or trust the notebook. <br />On GitHub, the HTML representation is unable to render, please try loading this page with nbviewer.org.</b></div><div class=\"sk-container\" hidden><div class=\"sk-item\"><div class=\"sk-estimator sk-toggleable\"><input class=\"sk-toggleable__control sk-hidden--visually\" id=\"sk-estimator-id-5\" type=\"checkbox\" checked><label for=\"sk-estimator-id-5\" class=\"sk-toggleable__label sk-toggleable__label-arrow\">XGBClassifier</label><div class=\"sk-toggleable__content\"><pre>XGBClassifier(base_score=0.5, booster=&#x27;gbtree&#x27;, callbacks=None,\n",
                            "              colsample_bylevel=1, colsample_bynode=1, colsample_bytree=1,\n",
                            "              early_stopping_rounds=None, enable_categorical=False,\n",
                            "              eval_metric=&#x27;mlogloss&#x27;, gamma=0, gpu_id=-1,\n",
                            "              grow_policy=&#x27;depthwise&#x27;, importance_type=None,\n",
                            "              interaction_constraints=&#x27;&#x27;, learning_rate=0.300000012,\n",
                            "              max_bin=256, max_cat_to_onehot=4, max_delta_step=0, max_depth=6,\n",
                            "              max_leaves=0, min_child_weight=1, missing=nan,\n",
                            "              monotone_constraints=&#x27;()&#x27;, n_estimators=100, n_jobs=0,\n",
                            "              num_parallel_tree=1, predictor=&#x27;auto&#x27;, random_state=0,\n",
                            "              reg_alpha=0, reg_lambda=1, ...)</pre></div></div></div></div></div>"
                        ],
                        "text/plain": [
                            "XGBClassifier(base_score=0.5, booster='gbtree', callbacks=None,\n",
                            "              colsample_bylevel=1, colsample_bynode=1, colsample_bytree=1,\n",
                            "              early_stopping_rounds=None, enable_categorical=False,\n",
                            "              eval_metric='mlogloss', gamma=0, gpu_id=-1,\n",
                            "              grow_policy='depthwise', importance_type=None,\n",
                            "              interaction_constraints='', learning_rate=0.300000012,\n",
                            "              max_bin=256, max_cat_to_onehot=4, max_delta_step=0, max_depth=6,\n",
                            "              max_leaves=0, min_child_weight=1, missing=nan,\n",
                            "              monotone_constraints='()', n_estimators=100, n_jobs=0,\n",
                            "              num_parallel_tree=1, predictor='auto', random_state=0,\n",
                            "              reg_alpha=0, reg_lambda=1, ...)"
                        ]
                    },
                    "execution_count": 32,
                    "metadata": {},
                    "output_type": "execute_result"
                }
            ],
            "source": [
                "xgb = XGBClassifier(use_label_encoder=False, eval_metric='mlogloss')\n",
                "xgb.fit(X_train, y_train)"
            ]
        },
        {
            "cell_type": "code",
            "execution_count": 33,
            "metadata": {},
            "outputs": [],
            "source": [
                "y_xgb_pred = xgb.predict(X_test)"
            ]
        },
        {
            "cell_type": "code",
            "execution_count": 34,
            "metadata": {},
            "outputs": [
                {
                    "data": {
                        "text/plain": [
                            "0.8100558659217877"
                        ]
                    },
                    "execution_count": 34,
                    "metadata": {},
                    "output_type": "execute_result"
                }
            ],
            "source": [
                "accuracy_score(y_test, y_xgb_pred)\n",
                "0.8100558659217877"
            ]
        },
        {
            "cell_type": "code",
            "execution_count": 40,
            "metadata": {},
            "outputs": [
                {
                    "name": "stdout",
                    "output_type": "stream",
                    "text": [
                        "              precision    recall  f1-score   support\n",
                        "\n",
                        "           0       0.83      0.85      0.84       105\n",
                        "           1       0.78      0.76      0.77        74\n",
                        "\n",
                        "    accuracy                           0.81       179\n",
                        "   macro avg       0.80      0.80      0.80       179\n",
                        "weighted avg       0.81      0.81      0.81       179\n",
                        "\n"
                    ]
                }
            ],
            "source": [
                "print(classification_report(y_test, y_xgb_pred))"
            ]
        },
        {
            "cell_type": "code",
            "execution_count": 35,
            "metadata": {},
            "outputs": [
                {
                    "data": {
                        "text/html": [
                            "<style>#sk-container-id-4 {color: black;background-color: white;}#sk-container-id-4 pre{padding: 0;}#sk-container-id-4 div.sk-toggleable {background-color: white;}#sk-container-id-4 label.sk-toggleable__label {cursor: pointer;display: block;width: 100%;margin-bottom: 0;padding: 0.3em;box-sizing: border-box;text-align: center;}#sk-container-id-4 label.sk-toggleable__label-arrow:before {content: \"▸\";float: left;margin-right: 0.25em;color: #696969;}#sk-container-id-4 label.sk-toggleable__label-arrow:hover:before {color: black;}#sk-container-id-4 div.sk-estimator:hover label.sk-toggleable__label-arrow:before {color: black;}#sk-container-id-4 div.sk-toggleable__content {max-height: 0;max-width: 0;overflow: hidden;text-align: left;background-color: #f0f8ff;}#sk-container-id-4 div.sk-toggleable__content pre {margin: 0.2em;color: black;border-radius: 0.25em;background-color: #f0f8ff;}#sk-container-id-4 input.sk-toggleable__control:checked~div.sk-toggleable__content {max-height: 200px;max-width: 100%;overflow: auto;}#sk-container-id-4 input.sk-toggleable__control:checked~label.sk-toggleable__label-arrow:before {content: \"▾\";}#sk-container-id-4 div.sk-estimator input.sk-toggleable__control:checked~label.sk-toggleable__label {background-color: #d4ebff;}#sk-container-id-4 div.sk-label input.sk-toggleable__control:checked~label.sk-toggleable__label {background-color: #d4ebff;}#sk-container-id-4 input.sk-hidden--visually {border: 0;clip: rect(1px 1px 1px 1px);clip: rect(1px, 1px, 1px, 1px);height: 1px;margin: -1px;overflow: hidden;padding: 0;position: absolute;width: 1px;}#sk-container-id-4 div.sk-estimator {font-family: monospace;background-color: #f0f8ff;border: 1px dotted black;border-radius: 0.25em;box-sizing: border-box;margin-bottom: 0.5em;}#sk-container-id-4 div.sk-estimator:hover {background-color: #d4ebff;}#sk-container-id-4 div.sk-parallel-item::after {content: \"\";width: 100%;border-bottom: 1px solid gray;flex-grow: 1;}#sk-container-id-4 div.sk-label:hover label.sk-toggleable__label {background-color: #d4ebff;}#sk-container-id-4 div.sk-serial::before {content: \"\";position: absolute;border-left: 1px solid gray;box-sizing: border-box;top: 0;bottom: 0;left: 50%;z-index: 0;}#sk-container-id-4 div.sk-serial {display: flex;flex-direction: column;align-items: center;background-color: white;padding-right: 0.2em;padding-left: 0.2em;position: relative;}#sk-container-id-4 div.sk-item {position: relative;z-index: 1;}#sk-container-id-4 div.sk-parallel {display: flex;align-items: stretch;justify-content: center;background-color: white;position: relative;}#sk-container-id-4 div.sk-item::before, #sk-container-id-4 div.sk-parallel-item::before {content: \"\";position: absolute;border-left: 1px solid gray;box-sizing: border-box;top: 0;bottom: 0;left: 50%;z-index: -1;}#sk-container-id-4 div.sk-parallel-item {display: flex;flex-direction: column;z-index: 1;position: relative;background-color: white;}#sk-container-id-4 div.sk-parallel-item:first-child::after {align-self: flex-end;width: 50%;}#sk-container-id-4 div.sk-parallel-item:last-child::after {align-self: flex-start;width: 50%;}#sk-container-id-4 div.sk-parallel-item:only-child::after {width: 0;}#sk-container-id-4 div.sk-dashed-wrapped {border: 1px dashed gray;margin: 0 0.4em 0.5em 0.4em;box-sizing: border-box;padding-bottom: 0.4em;background-color: white;}#sk-container-id-4 div.sk-label label {font-family: monospace;font-weight: bold;display: inline-block;line-height: 1.2em;}#sk-container-id-4 div.sk-label-container {text-align: center;}#sk-container-id-4 div.sk-container {/* jupyter's `normalize.less` sets `[hidden] { display: none; }` but bootstrap.min.css set `[hidden] { display: none !important; }` so we also need the `!important` here to be able to override the default hidden behavior on the sphinx rendered scikit-learn.org. See: https://github.com/scikit-learn/scikit-learn/issues/21755 */display: inline-block !important;position: relative;}#sk-container-id-4 div.sk-text-repr-fallback {display: none;}</style><div id=\"sk-container-id-4\" class=\"sk-top-container\"><div class=\"sk-text-repr-fallback\"><pre>RandomizedSearchCV(cv=3,\n",
                            "                   estimator=XGBClassifier(base_score=None, booster=None,\n",
                            "                                           callbacks=None,\n",
                            "                                           colsample_bylevel=None,\n",
                            "                                           colsample_bynode=None,\n",
                            "                                           colsample_bytree=None,\n",
                            "                                           early_stopping_rounds=None,\n",
                            "                                           enable_categorical=False,\n",
                            "                                           eval_metric=None, gamma=None,\n",
                            "                                           gpu_id=None, grow_policy=None,\n",
                            "                                           importance_type=None,\n",
                            "                                           interaction_constraints=None,\n",
                            "                                           learning_rate=None, max_bin=None,...\n",
                            "                                           monotone_constraints=None,\n",
                            "                                           n_estimators=100, n_jobs=None,\n",
                            "                                           num_parallel_tree=None,\n",
                            "                                           predictor=None, random_state=None,\n",
                            "                                           reg_alpha=None, reg_lambda=None, ...),\n",
                            "                   n_jobs=4,\n",
                            "                   param_distributions={&#x27;colsample_bytree&#x27;: [0.3, 0.4, 0.5,\n",
                            "                                                             0.7],\n",
                            "                                        &#x27;eta&#x27;: [0.05, 0.1, 0.15, 0.2, 0.25,\n",
                            "                                                0.3],\n",
                            "                                        &#x27;gamma&#x27;: [0.0, 0.1, 0.2, 0.3, 0.4],\n",
                            "                                        &#x27;max_depth&#x27;: [3, 4, 5, 6, 8, 10, 12,\n",
                            "                                                      15],\n",
                            "                                        &#x27;min_child_weight&#x27;: [1, 3, 5, 7]},\n",
                            "                   scoring=&#x27;neg_log_loss&#x27;)</pre><b>In a Jupyter environment, please rerun this cell to show the HTML representation or trust the notebook. <br />On GitHub, the HTML representation is unable to render, please try loading this page with nbviewer.org.</b></div><div class=\"sk-container\" hidden><div class=\"sk-item sk-dashed-wrapped\"><div class=\"sk-label-container\"><div class=\"sk-label sk-toggleable\"><input class=\"sk-toggleable__control sk-hidden--visually\" id=\"sk-estimator-id-6\" type=\"checkbox\" ><label for=\"sk-estimator-id-6\" class=\"sk-toggleable__label sk-toggleable__label-arrow\">RandomizedSearchCV</label><div class=\"sk-toggleable__content\"><pre>RandomizedSearchCV(cv=3,\n",
                            "                   estimator=XGBClassifier(base_score=None, booster=None,\n",
                            "                                           callbacks=None,\n",
                            "                                           colsample_bylevel=None,\n",
                            "                                           colsample_bynode=None,\n",
                            "                                           colsample_bytree=None,\n",
                            "                                           early_stopping_rounds=None,\n",
                            "                                           enable_categorical=False,\n",
                            "                                           eval_metric=None, gamma=None,\n",
                            "                                           gpu_id=None, grow_policy=None,\n",
                            "                                           importance_type=None,\n",
                            "                                           interaction_constraints=None,\n",
                            "                                           learning_rate=None, max_bin=None,...\n",
                            "                                           monotone_constraints=None,\n",
                            "                                           n_estimators=100, n_jobs=None,\n",
                            "                                           num_parallel_tree=None,\n",
                            "                                           predictor=None, random_state=None,\n",
                            "                                           reg_alpha=None, reg_lambda=None, ...),\n",
                            "                   n_jobs=4,\n",
                            "                   param_distributions={&#x27;colsample_bytree&#x27;: [0.3, 0.4, 0.5,\n",
                            "                                                             0.7],\n",
                            "                                        &#x27;eta&#x27;: [0.05, 0.1, 0.15, 0.2, 0.25,\n",
                            "                                                0.3],\n",
                            "                                        &#x27;gamma&#x27;: [0.0, 0.1, 0.2, 0.3, 0.4],\n",
                            "                                        &#x27;max_depth&#x27;: [3, 4, 5, 6, 8, 10, 12,\n",
                            "                                                      15],\n",
                            "                                        &#x27;min_child_weight&#x27;: [1, 3, 5, 7]},\n",
                            "                   scoring=&#x27;neg_log_loss&#x27;)</pre></div></div></div><div class=\"sk-parallel\"><div class=\"sk-parallel-item\"><div class=\"sk-item\"><div class=\"sk-label-container\"><div class=\"sk-label sk-toggleable\"><input class=\"sk-toggleable__control sk-hidden--visually\" id=\"sk-estimator-id-7\" type=\"checkbox\" ><label for=\"sk-estimator-id-7\" class=\"sk-toggleable__label sk-toggleable__label-arrow\">estimator: XGBClassifier</label><div class=\"sk-toggleable__content\"><pre>XGBClassifier(base_score=None, booster=None, callbacks=None,\n",
                            "              colsample_bylevel=None, colsample_bynode=None,\n",
                            "              colsample_bytree=None, early_stopping_rounds=None,\n",
                            "              enable_categorical=False, eval_metric=None, gamma=None,\n",
                            "              gpu_id=None, grow_policy=None, importance_type=None,\n",
                            "              interaction_constraints=None, learning_rate=None, max_bin=None,\n",
                            "              max_cat_to_onehot=None, max_delta_step=None, max_depth=None,\n",
                            "              max_leaves=None, min_child_weight=None, missing=nan,\n",
                            "              monotone_constraints=None, n_estimators=100, n_jobs=None,\n",
                            "              num_parallel_tree=None, predictor=None, random_state=None,\n",
                            "              reg_alpha=None, reg_lambda=None, ...)</pre></div></div></div><div class=\"sk-serial\"><div class=\"sk-item\"><div class=\"sk-estimator sk-toggleable\"><input class=\"sk-toggleable__control sk-hidden--visually\" id=\"sk-estimator-id-8\" type=\"checkbox\" ><label for=\"sk-estimator-id-8\" class=\"sk-toggleable__label sk-toggleable__label-arrow\">XGBClassifier</label><div class=\"sk-toggleable__content\"><pre>XGBClassifier(base_score=None, booster=None, callbacks=None,\n",
                            "              colsample_bylevel=None, colsample_bynode=None,\n",
                            "              colsample_bytree=None, early_stopping_rounds=None,\n",
                            "              enable_categorical=False, eval_metric=None, gamma=None,\n",
                            "              gpu_id=None, grow_policy=None, importance_type=None,\n",
                            "              interaction_constraints=None, learning_rate=None, max_bin=None,\n",
                            "              max_cat_to_onehot=None, max_delta_step=None, max_depth=None,\n",
                            "              max_leaves=None, min_child_weight=None, missing=nan,\n",
                            "              monotone_constraints=None, n_estimators=100, n_jobs=None,\n",
                            "              num_parallel_tree=None, predictor=None, random_state=None,\n",
                            "              reg_alpha=None, reg_lambda=None, ...)</pre></div></div></div></div></div></div></div></div></div></div>"
                        ],
                        "text/plain": [
                            "RandomizedSearchCV(cv=3,\n",
                            "                   estimator=XGBClassifier(base_score=None, booster=None,\n",
                            "                                           callbacks=None,\n",
                            "                                           colsample_bylevel=None,\n",
                            "                                           colsample_bynode=None,\n",
                            "                                           colsample_bytree=None,\n",
                            "                                           early_stopping_rounds=None,\n",
                            "                                           enable_categorical=False,\n",
                            "                                           eval_metric=None, gamma=None,\n",
                            "                                           gpu_id=None, grow_policy=None,\n",
                            "                                           importance_type=None,\n",
                            "                                           interaction_constraints=None,\n",
                            "                                           learning_rate=None, max_bin=None,...\n",
                            "                                           monotone_constraints=None,\n",
                            "                                           n_estimators=100, n_jobs=None,\n",
                            "                                           num_parallel_tree=None,\n",
                            "                                           predictor=None, random_state=None,\n",
                            "                                           reg_alpha=None, reg_lambda=None, ...),\n",
                            "                   n_jobs=4,\n",
                            "                   param_distributions={'colsample_bytree': [0.3, 0.4, 0.5,\n",
                            "                                                             0.7],\n",
                            "                                        'eta': [0.05, 0.1, 0.15, 0.2, 0.25,\n",
                            "                                                0.3],\n",
                            "                                        'gamma': [0.0, 0.1, 0.2, 0.3, 0.4],\n",
                            "                                        'max_depth': [3, 4, 5, 6, 8, 10, 12,\n",
                            "                                                      15],\n",
                            "                                        'min_child_weight': [1, 3, 5, 7]},\n",
                            "                   scoring='neg_log_loss')"
                        ]
                    },
                    "execution_count": 35,
                    "metadata": {},
                    "output_type": "execute_result"
                }
            ],
            "source": [
                "#Grid search\n",
                "xgb_2 = XGBClassifier()\n",
                "parameters = {\n",
                "     \"eta\"    : [0.05, 0.10, 0.15, 0.20, 0.25, 0.30 ] ,\n",
                "     \"max_depth\"        : [ 3, 4, 5, 6, 8, 10, 12, 15],\n",
                "     \"min_child_weight\" : [ 1, 3, 5, 7 ],\n",
                "     \"gamma\"            : [ 0.0, 0.1, 0.2 , 0.3, 0.4 ],\n",
                "     \"colsample_bytree\" : [ 0.3, 0.4, 0.5 , 0.7 ]\n",
                "     }\n",
                "\n",
                "grid_xgb = RandomizedSearchCV(xgb_2,\n",
                "                    parameters, n_jobs=4,\n",
                "                    scoring=\"neg_log_loss\",\n",
                "                    cv=3)\n",
                "\n",
                "grid_xgb.fit(X_train, y_train)"
            ]
        },
        {
            "cell_type": "code",
            "execution_count": 36,
            "metadata": {},
            "outputs": [],
            "source": [
                "xgb_2 = grid_xgb.best_estimator_"
            ]
        },
        {
            "cell_type": "code",
            "execution_count": 37,
            "metadata": {},
            "outputs": [],
            "source": [
                "y_pred_xgb_2 = xgb_2.predict(X_test)"
            ]
        },
        {
            "cell_type": "code",
            "execution_count": 38,
            "metadata": {},
            "outputs": [
                {
                    "data": {
                        "text/plain": [
                            "0.8156424581005587"
                        ]
                    },
                    "execution_count": 38,
                    "metadata": {},
                    "output_type": "execute_result"
                }
            ],
            "source": [
                "accuracy_score(y_test, y_pred_xgb_2)\n",
                "#El accuracy score aumenta respecto al xgb sin grid search y el random forest"
            ]
        },
        {
            "cell_type": "code",
            "execution_count": 39,
            "metadata": {},
            "outputs": [
                {
                    "name": "stdout",
                    "output_type": "stream",
                    "text": [
                        "              precision    recall  f1-score   support\n",
                        "\n",
                        "           0       0.82      0.89      0.85       105\n",
                        "           1       0.82      0.72      0.76        74\n",
                        "\n",
                        "    accuracy                           0.82       179\n",
                        "   macro avg       0.82      0.80      0.81       179\n",
                        "weighted avg       0.82      0.82      0.81       179\n",
                        "\n"
                    ]
                }
            ],
            "source": [
                "print(classification_report(y_test, y_pred_xgb_2))"
            ]
        }
    ],
    "metadata": {
        "kernelspec": {
            "display_name": "Python 3.10.5 64-bit",
            "language": "python",
            "name": "python3"
        },
        "language_info": {
            "codemirror_mode": {
                "name": "ipython",
                "version": 3
            },
            "file_extension": ".py",
            "mimetype": "text/x-python",
            "name": "python",
            "nbconvert_exporter": "python",
            "pygments_lexer": "ipython3",
            "version": "3.10.5"
        },
        "orig_nbformat": 4,
        "vscode": {
            "interpreter": {
                "hash": "be55531a80018631fb0dfb010073b3ec3c01ba5a90935dd3ed6089ae93a8f0c8"
            }
        }
    },
    "nbformat": 4,
    "nbformat_minor": 2
}
